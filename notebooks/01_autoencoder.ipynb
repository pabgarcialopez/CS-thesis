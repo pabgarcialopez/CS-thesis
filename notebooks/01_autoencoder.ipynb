{
 "cells": [
  {
   "cell_type": "code",
   "execution_count": 1,
   "metadata": {},
   "outputs": [
    {
     "name": "stdout",
     "output_type": "stream",
     "text": [
      "Input channels: 1 and Output channels: 32\n",
      "Input channels: 32 and Output channels: 64\n",
      "Input channels: 64 and Output channels: 128\n",
      "Final height: 8 and final width: 16\n",
      "Height: 8\n",
      "Width: 16\n",
      "Num channels: 128\n",
      "Multiplication is: 16384\n",
      "Flattened size: 16384\n",
      "AutoEncoder model:\n",
      "AutoEncoder(\n",
      "  (encoder): Sequential(\n",
      "    (0): Conv2d(1, 32, kernel_size=(3, 3), stride=(2, 2), padding=(1, 1))\n",
      "    (1): ReLU()\n",
      "    (2): Conv2d(32, 64, kernel_size=(3, 3), stride=(2, 2), padding=(1, 1))\n",
      "    (3): ReLU()\n",
      "    (4): Conv2d(64, 128, kernel_size=(3, 3), stride=(2, 2), padding=(1, 1))\n",
      "    (5): ReLU()\n",
      "    (6): Flatten(start_dim=1, end_dim=-1)\n",
      "    (7): Linear(in_features=16384, out_features=30, bias=True)\n",
      "  )\n",
      "  (decoder): Sequential(\n",
      "    (0): Linear(in_features=30, out_features=16384, bias=True)\n",
      "    (1): Unflatten(dim=1, unflattened_size=(128, 8, 16))\n",
      "    (2): ConvTranspose2d(128, 128, kernel_size=(3, 3), stride=(2, 2), padding=(1, 1), output_padding=(1, 1))\n",
      "    (3): ReLU()\n",
      "    (4): ConvTranspose2d(128, 64, kernel_size=(3, 3), stride=(2, 2), padding=(1, 1), output_padding=(1, 1))\n",
      "    (5): ReLU()\n",
      "    (6): ConvTranspose2d(64, 32, kernel_size=(3, 3), stride=(2, 2), padding=(1, 1), output_padding=(1, 1))\n",
      "    (7): ReLU()\n",
      "    (8): ConvTranspose2d(32, 1, kernel_size=(3, 3), stride=(1, 1), padding=(1, 1))\n",
      "    (9): Sigmoid()\n",
      "  )\n",
      ")\n",
      "Input shape: torch.Size([4, 1, 64, 128])\n",
      "Output shape: torch.Size([4, 1, 64, 128])\n",
      "Success: Output shape matches input shape.\n"
     ]
    }
   ],
   "source": [
    "%run init_notebook.py\n",
    "\n",
    "import torch\n",
    "import torch.nn as nn\n",
    "import torchaudio\n",
    "\n",
    "# Adjust these imports according to your project structure:\n",
    "from src.models import AutoEncoder\n",
    "from src.config import CONV_KERNEL_SIZE, CONV_STRIDE, CONV_PADDING, POOL_KERNEL_SIZE, POOL_STRIDE, POOL_PADDING\n",
    "from src.utils.models import compute_output_size, compute_flattened_size\n",
    "\n",
    "# Define parameters\n",
    "input_height = 64\n",
    "input_width = 128\n",
    "latent_dim = 30\n",
    "in_channels = 1\n",
    "filters = [32, 64, 128]\n",
    "\n",
    "# Instantiate the autoencoder model.\n",
    "# Make sure your AutoEncoder class is defined to accept (input_height, input_width, latent_dim, in_channels, filters)\n",
    "model = AutoEncoder(input_height, input_width, latent_dim, in_channels, filters)\n",
    "print(\"AutoEncoder model:\")\n",
    "print(model)\n",
    "\n",
    "# Create a dummy input tensor: shape [batch_size, in_channels, input_height, input_width]\n",
    "batch_size = 4\n",
    "dummy_input = torch.randn(batch_size, in_channels, input_height, input_width)\n",
    "\n",
    "# Pass the dummy input through the autoencoder d\n",
    "output = model(dummy_input)\n",
    "\n",
    "# Print input and output shapes\n",
    "print(\"Input shape:\", dummy_input.shape)\n",
    "print(\"Output shape:\", output.shape)\n",
    "\n",
    "# Check if the output shape matches the input shape\n",
    "if dummy_input.shape == output.shape:\n",
    "    print(\"Success: Output shape matches input shape.\")\n",
    "else:\n",
    "    print(\"Mismatch: Adjust output_padding in your decoder layers if necessary.\")\n"
   ]
  },
  {
   "cell_type": "code",
   "execution_count": null,
   "metadata": {},
   "outputs": [],
   "source": []
  }
 ],
 "metadata": {
  "kernelspec": {
   "display_name": "Python 3.12.7 (TFG-info)",
   "language": "python",
   "name": "tfg-info"
  },
  "language_info": {
   "codemirror_mode": {
    "name": "ipython",
    "version": 3
   },
   "file_extension": ".py",
   "mimetype": "text/x-python",
   "name": "python",
   "nbconvert_exporter": "python",
   "pygments_lexer": "ipython3",
   "version": "3.12.7"
  }
 },
 "nbformat": 4,
 "nbformat_minor": 2
}
